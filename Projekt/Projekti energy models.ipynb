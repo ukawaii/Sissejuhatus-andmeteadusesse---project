{
 "cells": [
  {
   "cell_type": "code",
   "execution_count": 1,
   "id": "55131d3f",
   "metadata": {},
   "outputs": [
    {
     "name": "stdout",
     "output_type": "stream",
     "text": [
      "temp\n",
      "dwpt\n",
      "rhum\n",
      "prcp\n",
      "snow\n",
      "wdir\n",
      "wspd\n",
      "wpgt\n",
      "pres\n",
      "coco\n",
      "el_price\n",
      "Month\n",
      "Day\n",
      "Hour\n",
      "workday\n",
      "is_dew\n"
     ]
    }
   ],
   "source": [
    "from sklearn.model_selection import train_test_split\n",
    "import pandas as pd\n",
    "import numpy as np\n",
    "\n",
    "df = pd.read_csv(\"train.csv\")\n",
    "#X_test = pd.read_csv(\"test.csv\")\n",
    "\n",
    "df.prcp = df.prcp.fillna(0) # eeldan, et vihmasaju andme puudumine on sama mis 0\n",
    "df.snow = df.snow.fillna(0) # eeldan, et lumesaju andme puudumine on sama mis 0\n",
    "\n",
    "df = df.dropna()\n",
    "#2021-09-01 00:00:00+03:00\n",
    "df.time = pd.to_datetime(df['time'], format='%Y-%m-%dT%H:%M:%S%z')\n",
    "df['Month'] = df['time'].apply(lambda time: time.month)\n",
    "df['Day'] = df['time'].apply(lambda time: time.day)\n",
    "df['Hour'] = df['time'].apply(lambda time: time.hour)\n",
    "df[\"workday\"] = df[\"time\"].apply(lambda time: time.weekday() < 5)\n",
    "df = df.drop(\"time\", axis = 1)\n",
    "\n",
    "df[\"is_dew\"] = np.where(df[\"dwpt\"] < df[\"temp\"], True, False) # kas on udu või mitte\n",
    "\n",
    "df_orig = df.copy(deep = True)\n",
    "\n",
    "X = df.drop(\"consumption\", axis = 1)\n",
    "Y = df.consumption\n",
    "X_train, X_test, y_train, y_test =train_test_split(X, Y, test_size=0.2, random_state = 69)\n",
    "for i in X_train:\n",
    "    print(i)\n",
    "dropped = []\n",
    "results = []"
   ]
  },
  {
   "cell_type": "code",
   "execution_count": 2,
   "id": "8106655e",
   "metadata": {},
   "outputs": [
    {
     "name": "stdout",
     "output_type": "stream",
     "text": [
      "Lasso: 0.6362023420048444\n",
      "Ridge: 0.6202793776967443\n",
      "Linear: 0.6203209320999126\n"
     ]
    }
   ],
   "source": [
    "from sklearn.linear_model import LinearRegression\n",
    "from sklearn.linear_model import Lasso\n",
    "from sklearn.linear_model import Ridge\n",
    "from sklearn.metrics import mean_absolute_error\n",
    "from sklearn.model_selection import cross_val_score\n",
    "from sklearn.model_selection import GridSearchCV\n",
    "\n",
    "lasso = Lasso()\n",
    "lasso.fit(X_train, y_train)\n",
    "predict = lasso.predict(X_test)\n",
    "print(\"Lasso:\", mean_absolute_error(y_test, predict))\n",
    "\n",
    "ridge = Ridge().fit(X_train, y_train)\n",
    "predict = ridge.predict(X_test)\n",
    "print(\"Ridge:\", mean_absolute_error(y_test, predict))\n",
    "\n",
    "linear = LinearRegression().fit(X_train, y_train)\n",
    "predict = linear.predict(X_test)\n",
    "print(\"Linear:\", mean_absolute_error(y_test, predict))\n",
    "\n",
    "params = {'alpha': (np.linspace(0.001,300,1000))}"
   ]
  },
  {
   "cell_type": "markdown",
   "id": "51897511",
   "metadata": {},
   "source": [
    "lasso = Lasso(max_iter = 7000) # best case is equal to linear\n",
    "lasso_model = GridSearchCV(lasso, params, cv = 10)\n",
    "lasso_model.fit(X_train, y_train)\n",
    "print(lasso_model.best_params_)\n",
    "print(lasso_model.best_score_)\n",
    "print(mean_absolute_error(y_test, lasso_model.predict(X_test)))"
   ]
  },
  {
   "cell_type": "markdown",
   "id": "b3129de5",
   "metadata": {},
   "source": [
    "ridge = Ridge() # best case is equal to linear\n",
    "ridge_model = GridSearchCV(ridge, params, cv = 10)\n",
    "ridge_model.fit(X_train, y_train)\n",
    "print(ridge_model.best_params_)\n",
    "print(ridge_model.best_score_)\n",
    "print(mean_absolute_error(y_test, ridge_model.predict(X_test)))"
   ]
  },
  {
   "cell_type": "code",
   "execution_count": 3,
   "id": "7b5e127b",
   "metadata": {},
   "outputs": [
    {
     "name": "stdout",
     "output_type": "stream",
     "text": [
      "0.6084557304517996\n"
     ]
    }
   ],
   "source": [
    "from sklearn.neighbors import KNeighborsRegressor\n",
    "\n",
    "neigh = KNeighborsRegressor(n_neighbors=70).fit(X_train, y_train)\n",
    "print(mean_absolute_error(y_test, neigh.predict(X_test)))"
   ]
  },
  {
   "cell_type": "markdown",
   "id": "f96a7fc7",
   "metadata": {},
   "source": [
    "min = 99\n",
    "k = 0\n",
    "for i in np.arange(1,200, 2):\n",
    "    neigh = KNeighborsRegressor(n_neighbors=i).fit(X_train, y_train)\n",
    "    error = mean_absolute_error(y_test, neigh.predict(X_test))\n",
    "    if (error < min):\n",
    "        min = error\n",
    "        k = i\n",
    "print(k)\n",
    "neigh = KNeighborsRegressor(n_neighbors=k).fit(X_train, y_train)\n",
    "error = mean_absolute_error(y_test, neigh.predict(X_test))\n",
    "print(error)"
   ]
  },
  {
   "cell_type": "markdown",
   "id": "664fe376",
   "metadata": {},
   "source": [
    "neigh = KNeighborsRegressor(n_neighbors=k, weights = \"uniform\").fit(X_train, y_train)\n",
    "error = mean_absolute_error(y_test, neigh.predict(X_test))\n",
    "print(error)\n",
    "neigh = KNeighborsRegressor(n_neighbors=k, weights = \"distance\").fit(X_train, y_train)\n",
    "error = mean_absolute_error(y_test, neigh.predict(X_test))\n",
    "print(error)"
   ]
  },
  {
   "cell_type": "code",
   "execution_count": 4,
   "id": "8c049e80",
   "metadata": {},
   "outputs": [
    {
     "name": "stdout",
     "output_type": "stream",
     "text": [
      "0.5000372245384157\n"
     ]
    }
   ],
   "source": [
    "from sklearn.ensemble import RandomForestRegressor\n",
    "\n",
    "rf = RandomForestRegressor(n_estimators = 100, random_state=0)\n",
    "rf.fit(X_train, y_train)\n",
    "print(mean_absolute_error(y_test, rf.predict(X_test)))"
   ]
  },
  {
   "cell_type": "code",
   "execution_count": 5,
   "id": "d6eb4f53",
   "metadata": {},
   "outputs": [],
   "source": [
    "from sklearn.model_selection import RandomizedSearchCV\n",
    "# Number of trees in random forest\n",
    "n_estimators = [int(x) for x in np.linspace(start = 200, stop = 2000, num = 10)]\n",
    "# Number of features to consider at every split\n",
    "max_features = ['sqrt', \"log2\", 1]\n",
    "# Maximum number of levels in tree\n",
    "max_depth = [int(x) for x in np.linspace(10, 110, num = 11)]\n",
    "max_depth.append(None)\n",
    "# Minimum number of samples required to split a node\n",
    "min_samples_split = [2, 5, 10]\n",
    "# Minimum number of samples required at each leaf node\n",
    "min_samples_leaf = [1, 2, 4]\n",
    "# Method of selecting samples for training each tree\n",
    "bootstrap = [True, False]\n",
    "# Create the random grid\n",
    "random_grid = {'n_estimators': n_estimators,\n",
    "               'max_features': max_features,\n",
    "               'max_depth': max_depth,\n",
    "               'min_samples_split': min_samples_split,\n",
    "               'min_samples_leaf': min_samples_leaf,\n",
    "               'bootstrap': bootstrap}"
   ]
  },
  {
   "cell_type": "code",
   "execution_count": 6,
   "id": "c2ceb41b",
   "metadata": {},
   "outputs": [
    {
     "name": "stdout",
     "output_type": "stream",
     "text": [
      "0.4763521868175501\n"
     ]
    }
   ],
   "source": [
    "def calc(X_train, y_train, X_test, y_test):\n",
    "    rf = RandomForestRegressor(n_estimators = 1200,random_state = 69, min_samples_split = 2, min_samples_leaf = 1, max_features = 'log2', max_depth = 90, bootstrap = False)\n",
    "    rf.fit(X_train, y_train)\n",
    "    print(mean_absolute_error(y_test, rf.predict(X_test)))\n",
    "    results.append((mean_absolute_error(y_test, rf.predict(X_test))).round(4))\n",
    "calc(X_train, y_train, X_test, y_test)\n",
    "dropped.append(\"None\")"
   ]
  },
  {
   "cell_type": "code",
   "execution_count": 7,
   "id": "d0bc7362",
   "metadata": {},
   "outputs": [
    {
     "name": "stdout",
     "output_type": "stream",
     "text": [
      "0.4739134589041097\n"
     ]
    }
   ],
   "source": [
    "df = df_orig.copy(deep = True)\n",
    "df = df.drop(\"wdir\", axis = 1)\n",
    "\n",
    "X = df.drop(\"consumption\", axis = 1)\n",
    "Y = df.consumption\n",
    "X_train, X_test, y_train, y_test =train_test_split(X, Y, test_size=0.2, random_state = 69)\n",
    "calc(X_train, y_train, X_test, y_test)\n",
    "dropped.append(\"Wind direction\")"
   ]
  },
  {
   "cell_type": "code",
   "execution_count": 8,
   "id": "b03dcf90",
   "metadata": {},
   "outputs": [
    {
     "name": "stdout",
     "output_type": "stream",
     "text": [
      "0.4763658243994443\n"
     ]
    }
   ],
   "source": [
    "df = df_orig.copy(deep = True)\n",
    "df = df.drop(\"wspd\", axis = 1)\n",
    "\n",
    "X = df.drop(\"consumption\", axis = 1)\n",
    "Y = df.consumption\n",
    "X_train, X_test, y_train, y_test =train_test_split(X, Y, test_size=0.2, random_state = 69)\n",
    "calc(X_train, y_train, X_test, y_test)\n",
    "dropped.append(\"Windspeed\")"
   ]
  },
  {
   "cell_type": "code",
   "execution_count": null,
   "id": "d1d5bc33",
   "metadata": {},
   "outputs": [],
   "source": [
    "df = df_orig.copy(deep = True)\n",
    "df = df.drop(\"coco\", axis = 1)\n",
    "\n",
    "X = df.drop(\"consumption\", axis = 1)\n",
    "Y = df.consumption\n",
    "X_train, X_test, y_train, y_test =train_test_split(X, Y, test_size=0.2, random_state = 69)\n",
    "calc(X_train, y_train, X_test, y_test)\n",
    "dropped.append(\"Coco\")"
   ]
  },
  {
   "cell_type": "code",
   "execution_count": null,
   "id": "f6afdf2d",
   "metadata": {},
   "outputs": [],
   "source": [
    "df = df_orig.copy(deep = True)\n",
    "df = df.drop(\"prcp\", axis = 1)\n",
    "\n",
    "X = df.drop(\"consumption\", axis = 1)\n",
    "Y = df.consumption\n",
    "X_train, X_test, y_train, y_test =train_test_split(X, Y, test_size=0.2, random_state = 69)\n",
    "calc(X_train, y_train, X_test, y_test)\n",
    "dropped.append(\"prcp\")"
   ]
  },
  {
   "cell_type": "code",
   "execution_count": null,
   "id": "2886d8eb",
   "metadata": {},
   "outputs": [],
   "source": [
    "df = df_orig.copy(deep = True)\n",
    "df = df.drop(\"dwpt\", axis = 1)\n",
    "\n",
    "X = df.drop(\"consumption\", axis = 1)\n",
    "Y = df.consumption\n",
    "X_train, X_test, y_train, y_test =train_test_split(X, Y, test_size=0.2, random_state = 69)\n",
    "calc(X_train, y_train, X_test, y_test)\n",
    "dropped.append(\"dwpt\")"
   ]
  },
  {
   "cell_type": "code",
   "execution_count": null,
   "id": "0bb57c50",
   "metadata": {},
   "outputs": [],
   "source": [
    "df = df_orig.copy(deep = True)\n",
    "df = df.drop(\"wpgt\", axis = 1)\n",
    "\n",
    "X = df.drop(\"consumption\", axis = 1)\n",
    "Y = df.consumption\n",
    "X_train, X_test, y_train, y_test =train_test_split(X, Y, test_size=0.2, random_state = 69)\n",
    "calc(X_train, y_train, X_test, y_test)\n",
    "dropped.append(\"Peak Windspeed\")"
   ]
  },
  {
   "cell_type": "code",
   "execution_count": null,
   "id": "e1817439",
   "metadata": {},
   "outputs": [],
   "source": [
    "df = df_orig.copy(deep = True)\n",
    "df = df.drop(\"dwpt\", axis = 1)\n",
    "df = df.drop(\"prcp\", axis = 1)\n",
    "\n",
    "X = df.drop(\"consumption\", axis = 1)\n",
    "Y = df.consumption\n",
    "X_train, X_test, y_train, y_test =train_test_split(X, Y, test_size=0.2, random_state = 69)\n",
    "calc(X_train, y_train, X_test, y_test)\n",
    "dropped.append(\"dwpt + prcp\")"
   ]
  },
  {
   "cell_type": "code",
   "execution_count": null,
   "id": "3c19b046",
   "metadata": {},
   "outputs": [],
   "source": [
    "df = df_orig.copy(deep = True)\n",
    "df = df.drop(\"wspd\", axis = 1)\n",
    "df = df.drop(\"dwpt\", axis = 1)\n",
    "\n",
    "X = df.drop(\"consumption\", axis = 1)\n",
    "Y = df.consumption\n",
    "X_train, X_test, y_train, y_test =train_test_split(X, Y, test_size=0.2, random_state = 69)\n",
    "calc(X_train, y_train, X_test, y_test)\n",
    "dropped.append(\"wspd + dwpt\")"
   ]
  },
  {
   "cell_type": "code",
   "execution_count": null,
   "id": "78ab2eb0",
   "metadata": {},
   "outputs": [],
   "source": [
    "df = df_orig.copy(deep = True)\n",
    "df = df.drop(\"wdir\", axis = 1)\n",
    "df = df.drop(\"prcp\", axis = 1)\n",
    "\n",
    "X = df.drop(\"consumption\", axis = 1)\n",
    "Y = df.consumption\n",
    "X_train, X_test, y_train, y_test =train_test_split(X, Y, test_size=0.2, random_state = 69)\n",
    "calc(X_train, y_train, X_test, y_test)\n",
    "dropped.append(\"wdir + prcp\")"
   ]
  },
  {
   "cell_type": "code",
   "execution_count": null,
   "id": "2c4486bf",
   "metadata": {},
   "outputs": [],
   "source": [
    "df = df_orig.copy(deep = True)\n",
    "df = df.drop(\"wdir\", axis = 1)\n",
    "df = df.drop(\"prcp\", axis = 1)\n",
    "df = df.drop(\"dwpt\", axis = 1)\n",
    "\n",
    "X = df.drop(\"consumption\", axis = 1)\n",
    "Y = df.consumption\n",
    "X_train, X_test, y_train, y_test =train_test_split(X, Y, test_size=0.2, random_state = 69)\n",
    "calc(X_train, y_train, X_test, y_test)\n",
    "dropped.append(\"wdir + prcp + dwpt\")"
   ]
  },
  {
   "cell_type": "code",
   "execution_count": null,
   "id": "9dc73c1e",
   "metadata": {},
   "outputs": [],
   "source": [
    "for i in range(sum( 1 for i in results)):\n",
    "    print(results[i], dropped[i])"
   ]
  },
  {
   "cell_type": "markdown",
   "id": "d2e04a55",
   "metadata": {},
   "source": [
    "df = df_orig.copy(deep = True)\n",
    "\n",
    "X = df.drop(\"consumption\", axis = 1)\n",
    "Y = df.consumption\n",
    "X_train, X_test, y_train, y_test =train_test_split(X, Y, test_size=0.2, random_state = 69)\n",
    "rf = RandomForestRegressor(random_state = 69)\n",
    "rf_random = RandomizedSearchCV(estimator = rf, param_distributions = random_grid, n_iter = 300, cv = 5, n_jobs = -1)\n",
    "rf_random.fit(X_train, y_train)\n",
    "print(rf_random.best_params_) # {'n_estimators': 1200, 'min_samples_split': 2, 'min_samples_leaf': 1, 'max_features': 'log2', 'max_depth': 90, 'bootstrap': False}\n",
    "print(mean_absolute_error(y_test, rf_random.predict(X_test)))"
   ]
  }
 ],
 "metadata": {
  "kernelspec": {
   "display_name": "Python 3 (ipykernel)",
   "language": "python",
   "name": "python3"
  },
  "language_info": {
   "codemirror_mode": {
    "name": "ipython",
    "version": 3
   },
   "file_extension": ".py",
   "mimetype": "text/x-python",
   "name": "python",
   "nbconvert_exporter": "python",
   "pygments_lexer": "ipython3",
   "version": "3.9.13"
  }
 },
 "nbformat": 4,
 "nbformat_minor": 5
}
